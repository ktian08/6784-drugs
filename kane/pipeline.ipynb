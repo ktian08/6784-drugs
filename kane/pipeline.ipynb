{
 "cells": [
  {
   "cell_type": "code",
   "execution_count": 65,
   "metadata": {
    "collapsed": true
   },
   "outputs": [],
   "source": [
    "import numpy as np \n",
    "import matplotlib.pyplot as plt\n",
    "from sklearn.linear_model import LogisticRegression\n",
    "from sklearn import preprocessing\n",
    "import pandas as pd\n",
    "from sklearn.metrics import roc_auc_score, average_precision_score\n",
    "from statistics import median\n",
    "import pickle"
   ]
  },
  {
   "cell_type": "code",
   "execution_count": 66,
   "metadata": {
    "collapsed": true
   },
   "outputs": [],
   "source": [
    "def process_data():\n",
    "    final_data_csv = '/Users/kanetian7/omic-features-successful-targets/kane/final_data.csv'\n",
    "    data = pd.read_csv(final_data_csv)\n",
    "    Y = np.expand_dims(np.array(data['class'].eq('positive').mul(1)), axis=1)\n",
    "    X = preprocessing.scale(np.array(data.drop(columns=['GeneSym', 'class', 'GeneID']), dtype='float64'))\n",
    "    processed_data = np.concatenate((X, Y), axis=1)\n",
    "    return processed_data"
   ]
  },
  {
   "cell_type": "code",
   "execution_count": 67,
   "metadata": {
    "collapsed": true
   },
   "outputs": [],
   "source": [
    "def gen_data(X_tr, Y_tr, X_v, Y_v):\n",
    "    # train model here, append results to data\n",
    "    \n",
    "    return X_tr, Y_tr"
   ]
  },
  {
   "cell_type": "code",
   "execution_count": 72,
   "metadata": {
    "collapsed": true
   },
   "outputs": [],
   "source": [
    "def pipeline(reps=30):\n",
    "    max_models, max_aurocs, aps, max_aurocs_gen, aps_gen = [], [], [], [], []\n",
    "    processed_data = process_data()\n",
    "    for rep in range(reps):\n",
    "        # discriminative stuff\n",
    "        np.random.shuffle(processed_data)\n",
    "        tr_num = int(processed_data.shape[0] * 0.6)\n",
    "        val_num = int(processed_data.shape[0] * 0.2)\n",
    "        X_tr, Y_tr = processed_data[:tr_num, :-1], processed_data[:tr_num, -1]\n",
    "        X_v, Y_v = processed_data[tr_num:tr_num + val_num, :-1], processed_data[tr_num:tr_num + val_num, -1]\n",
    "        X_te, Y_te = processed_data[tr_num + val_num:, :-1], processed_data[tr_num + val_num:, -1]\n",
    "\n",
    "        max_auroc_v = 0\n",
    "        max_model = None\n",
    "        for C in np.arange(0.1, 10.1, 0.1):\n",
    "            logreg = LogisticRegression(C=C, class_weight='balanced')\n",
    "            logreg.fit(X_tr, Y_tr)\n",
    "            scores_v = logreg.predict_proba(X_v)[:, 1]\n",
    "            auroc_v = roc_auc_score(Y_v, scores_v)\n",
    "            if auroc_v > max_auroc_v:\n",
    "                max_auroc_v = auroc_v\n",
    "                max_model = logreg\n",
    "        max_models.append(max_model)\n",
    "\n",
    "        scores_te = logreg.predict_proba(X_te)[:, 1]\n",
    "        auroc_te = roc_auc_score(Y_te, scores_te)\n",
    "        ap_te = average_precision_score(Y_te, scores_te)\n",
    "        \n",
    "        max_aurocs.append(auroc_te)\n",
    "        aps.append(ap_te)\n",
    "        \n",
    "#         # generative stuff\n",
    "#         X_tr, Y_tr = gen_data(X_tr, Y_tr, X_v, Y_v)\n",
    "#         logreg.fit(X_tr, Y_tr)\n",
    "        \n",
    "#         scores_te = logreg.predict_proba(X_te)[:, 1]\n",
    "#         auroc_te = roc_auc_score(Y_te, scores_te)\n",
    "#         ap_te = average_precision_score(Y_te, scores_te)\n",
    "        \n",
    "#         max_aurocs_gen.append(auroc_te)\n",
    "#         aps_gen.append(ap_te)\n",
    "    return max_models, max_aurocs, aps, max_aurocs_gen, aps_gen"
   ]
  },
  {
   "cell_type": "code",
   "execution_count": 73,
   "metadata": {},
   "outputs": [
    {
     "name": "stdout",
     "output_type": "stream",
     "text": [
      "0.5659544159544159\n",
      "0.807640667340467\n"
     ]
    }
   ],
   "source": [
    "max_models, max_aurocs, aps, max_aurocs_gen, aps_gen = pipeline()\n",
    "print(median(max_aurocs))\n",
    "print(median(aps))"
   ]
  },
  {
   "cell_type": "code",
   "execution_count": null,
   "metadata": {
    "collapsed": true
   },
   "outputs": [],
   "source": []
  }
 ],
 "metadata": {
  "kernelspec": {
   "display_name": "Python [conda env:drugs]",
   "language": "python",
   "name": "conda-env-drugs-py"
  },
  "language_info": {
   "codemirror_mode": {
    "name": "ipython",
    "version": 3
   },
   "file_extension": ".py",
   "mimetype": "text/x-python",
   "name": "python",
   "nbconvert_exporter": "python",
   "pygments_lexer": "ipython3",
   "version": "3.8.1"
  }
 },
 "nbformat": 4,
 "nbformat_minor": 2
}
