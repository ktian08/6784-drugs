{
 "cells": [
  {
   "cell_type": "code",
   "execution_count": 24,
   "metadata": {},
   "outputs": [
    {
     "name": "stdout",
     "output_type": "stream",
     "text": [
      "The autoreload extension is already loaded. To reload it, use:\n",
      "  %reload_ext autoreload\n"
     ]
    }
   ],
   "source": [
    "import numpy as np \n",
    "import matplotlib.pyplot as plt\n",
    "from sklearn.linear_model import LogisticRegression\n",
    "from sklearn import preprocessing\n",
    "import pandas as pd\n",
    "from sklearn.metrics import roc_auc_score, average_precision_score\n",
    "from statistics import median\n",
    "import pickle\n",
    "import cgan\n",
    "from sklearn.neighbors import KernelDensity\n",
    "import random \n",
    "%load_ext autoreload\n",
    "%autoreload 2"
   ]
  },
  {
   "cell_type": "code",
   "execution_count": 22,
   "metadata": {},
   "outputs": [],
   "source": [
    "def process_data():\n",
    "    final_data_csv = '/Users/kanetian7/omic-features-successful-targets/kane/final_data.csv'\n",
    "    data = pd.read_csv(final_data_csv)\n",
    "    Y = np.expand_dims(np.array(data['class'].eq('positive').mul(1)), axis=1)\n",
    "    X = preprocessing.scale(np.array(data.drop(columns=['GeneSym', 'class', 'GeneID']), dtype='float64'))\n",
    "    processed_data = np.concatenate((X, Y), axis=1)\n",
    "    return processed_data"
   ]
  },
  {
   "cell_type": "code",
   "execution_count": null,
   "metadata": {
    "collapsed": true
   },
   "outputs": [],
   "source": [
    "def single_pass(X_tr, Y_tr, X_v, Y_v, params):\n",
    "    generator, discriminator = cgan.train(X_tr, Y_tr, params)\n",
    "    \n",
    "    gen_pos = cgan.sample_out(generator, n_examples=500, cl=1)\n",
    "    gen_neg = cgan.sample_out(generator, n_examples=500, cl=0)\n",
    "    \n",
    "    kd_pos = KernelDensity(bandwidth=1.0, kernel='gaussian')\n",
    "    kd_pos.fit(gen_pos)\n",
    "    logprob_pos = kd_pos.score_samples(X_v[Y_v==1, :])\n",
    "    \n",
    "    kd_neg = KernelDensity(bandwidth=1.0, kernel='gaussian')\n",
    "    kd_neg.fit(gen_neg)\n",
    "    logprob_neg = kd_neg.score_samples(X_v[Y_v==0, :])\n",
    "    \n",
    "    score = logprob_pos + logprob_neg\n",
    "    return score, gen_pos, gen_neg, generator, discriminator"
   ]
  },
  {
   "cell_type": "code",
   "execution_count": null,
   "metadata": {
    "collapsed": true
   },
   "outputs": [],
   "source": [
    "def best_model(X_tr, Y_tr, X_v, Y_v):\n",
    "    for trial in range(100):\n",
    "        lr = random.random() * (1e-3 - 1e-4)  + 1e-4\n",
    "        b1 = random.random() * (0.95 - 0.4)  + 0.4\n",
    "        b2 = random.random() * (0.999 - 0.9)  + 0.9\n",
    "        wd = random.random() * (1 - 0)  + 0\n",
    "        latent_dim = random.randint(10, 150)\n",
    "        adversarial_loss = [torch.nn.MSELoss(), torch.nn.BCELoss()][random.randint(0, 1)]\n",
    "        params = (lr, b1, b2, latent_dim, adversarial_loss)\n",
    "        \n",
    "        score, gen_pos, gen_neg, generator, discriminator = single_pass(X_tr, Y_tr, X_v, Y_v, params)\n",
    "        if score > best[0]:\n",
    "            best = (score, gen_pos, gen_neg, generator, discriminator)\n",
    "    return best"
   ]
  },
  {
   "cell_type": "code",
   "execution_count": null,
   "metadata": {
    "collapsed": true
   },
   "outputs": [],
   "source": [
    "def max_disc_model(X_tr, Y_tr):\n",
    "    max_auroc_v = 0\n",
    "    max_model = None\n",
    "    for C in np.arange(0.1, 10.1, 0.1):\n",
    "        logreg = LogisticRegression(C=C, class_weight='balanced')\n",
    "        logreg.fit(X_tr, Y_tr)\n",
    "        scores_v = logreg.predict_proba(X_v)[:, 1]\n",
    "        auroc_v = roc_auc_score(Y_v, scores_v)\n",
    "        if auroc_v > max_auroc_v:\n",
    "            max_auroc_v = auroc_v\n",
    "            max_model = logreg\n",
    "    return max_model"
   ]
  },
  {
   "cell_type": "code",
   "execution_count": 72,
   "metadata": {
    "collapsed": true
   },
   "outputs": [],
   "source": [
    "def pipeline(reps=30):\n",
    "    max_models, max_aurocs, aps, max_models_gen, max_aurocs_gen, aps_gen = [], [], [], [], []\n",
    "    processed_data = process_data()\n",
    "    for rep in range(reps):\n",
    "        np.random.shuffle(processed_data)\n",
    "        tr_num = int(processed_data.shape[0] * 0.6)\n",
    "        val_num = int(processed_data.shape[0] * 0.2)\n",
    "        X_tr, Y_tr = processed_data[:tr_num, :-1], processed_data[:tr_num, -1]\n",
    "        X_v, Y_v = processed_data[tr_num:tr_num + val_num, :-1], processed_data[tr_num:tr_num + val_num, -1]\n",
    "        X_te, Y_te = processed_data[tr_num + val_num:, :-1], processed_data[tr_num + val_num:, -1]\n",
    "            \n",
    "        max_model = max_disc_model(X_tr, Y_tr)\n",
    "        max_models.append(max_model)\n",
    "\n",
    "        scores_te = max_model.predict_proba(X_te)[:, 1]\n",
    "        auroc_te = roc_auc_score(Y_te, scores_te)\n",
    "        ap_te = average_precision_score(Y_te, scores_te)\n",
    "        max_aurocs.append(auroc_te)\n",
    "        aps.append(ap_te)\n",
    "        \n",
    "        (s, gp, gn, g, d) = best_model(X_tr, Y_tr, X_v, Y_v)\n",
    "        X_tr = np.concatenate((gp, gn, X_tr), axis=0)\n",
    "        Y_tr = np.concatenate((np.ones(gp.shape[0]), np.zeros(gn.shape[0]), Y_tr), axis=0)\n",
    "        \n",
    "        max_model_gen = max_disc_model(X_tr, Y_tr)\n",
    "        max_models.append(max_model_gen)\n",
    "        \n",
    "        scores_te = max_model_gen.predict_proba(X_te)[:, 1]\n",
    "        auroc_te = roc_auc_score(Y_te, scores_te)\n",
    "        ap_te = average_precision_score(Y_te, scores_te)\n",
    "        max_aurocs_gen.append(auroc_te)\n",
    "        aps_gen.append(ap_te)\n",
    "        \n",
    "    return max_models, max_aurocs, aps, max_models_gen, max_aurocs_gen, aps_gen"
   ]
  },
  {
   "cell_type": "code",
   "execution_count": 73,
   "metadata": {},
   "outputs": [
    {
     "name": "stdout",
     "output_type": "stream",
     "text": [
      "0.5659544159544159\n",
      "0.807640667340467\n"
     ]
    }
   ],
   "source": [
    "max_models, max_aurocs, aps, max_models_gen, max_aurocs_gen, aps_gen = pipeline()"
   ]
  },
  {
   "cell_type": "code",
   "execution_count": null,
   "metadata": {
    "collapsed": true
   },
   "outputs": [],
   "source": []
  }
 ],
 "metadata": {
  "kernelspec": {
   "display_name": "Python [conda env:drugs]",
   "language": "python",
   "name": "conda-env-drugs-py"
  },
  "language_info": {
   "codemirror_mode": {
    "name": "ipython",
    "version": 3
   },
   "file_extension": ".py",
   "mimetype": "text/x-python",
   "name": "python",
   "nbconvert_exporter": "python",
   "pygments_lexer": "ipython3",
   "version": "3.8.1"
  }
 },
 "nbformat": 4,
 "nbformat_minor": 2
}
